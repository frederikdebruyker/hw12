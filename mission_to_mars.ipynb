{
 "cells": [
  {
   "cell_type": "code",
   "execution_count": 1,
   "metadata": {},
   "outputs": [],
   "source": [
    "from splinter import Browser\n",
    "from splinter.exceptions import ElementDoesNotExist\n",
    "from time import sleep\n",
    "from bs4 import BeautifulSoup\n",
    "import requests\n",
    "import pandas as pd"
   ]
  },
  {
   "cell_type": "markdown",
   "metadata": {},
   "source": [
    "# Step 1 - Scraping"
   ]
  },
  {
   "cell_type": "markdown",
   "metadata": {},
   "source": [
    "## NASA Mars News"
   ]
  },
  {
   "cell_type": "code",
   "execution_count": 3,
   "metadata": {},
   "outputs": [
    {
     "data": {
      "text/plain": [
       "[{'news_title': 'InSight Captures Sunrise and Sunset on Mars',\n",
       "  'news_p': \"InSight joins the rest of NASA's Red Planet surface missions, all of which have photographed either the start or end of a Martian day.\"}]"
      ]
     },
     "execution_count": 3,
     "metadata": {},
     "output_type": "execute_result"
    }
   ],
   "source": [
    "# regular scrapping attempted, but html pulled is not the same as the one displayed\n",
    "# Use splinter to navigate the site and find the image url for the current Featured Mars Image and assign the url string to a variable\n",
    "executable_path = {'executable_path': 'chromedriver.exe'}\n",
    "browser = Browser('chrome', **executable_path, headless=False)\n",
    "\n",
    "# URL of page to be scraped\n",
    "mars_news_url = 'https://mars.nasa.gov/news/'\n",
    "\n",
    "# initialize\n",
    "nasa_mars_news = []\n",
    "\n",
    "browser.visit(mars_news_url)\n",
    "\n",
    "html = browser.html\n",
    "soup_result = BeautifulSoup(html, 'html.parser')\n",
    "\n",
    "# Retrieve the parent divs for all articles\n",
    "result = soup_result.find(class_='slide')\n",
    "# print(results)\n",
    "news_title = result.find(class_='content_title').text\n",
    "news_p = result.find(class_='article_teaser_body').text\n",
    "nmn = {\n",
    "    \"news_title\":   news_title,\n",
    "    \"news_p\": news_p,\n",
    "}\n",
    "nasa_mars_news.append(nmn)\n",
    "browser.quit()\n",
    "nasa_mars_news"
   ]
  },
  {
   "cell_type": "markdown",
   "metadata": {},
   "source": [
    "## JPL Mars Space Images - Featured Image"
   ]
  },
  {
   "cell_type": "code",
   "execution_count": 4,
   "metadata": {},
   "outputs": [],
   "source": [
    "# Use splinter to navigate the site and find the image url for the current Featured Mars Image and assign the url string to a variable\n",
    "executable_path = {'executable_path': 'chromedriver.exe'}\n",
    "browser = Browser('chrome', **executable_path, headless=True)\n",
    "\n",
    "# first page\n",
    "# JPL Featured Space Image\n",
    "url = 'https://www.jpl.nasa.gov/spaceimages/?search=&category=Mars'\n",
    "\n",
    "browser.visit(url)\n",
    "\n",
    "browser.click_link_by_partial_text('FULL IMAGE')\n",
    "sleep(5)"
   ]
  },
  {
   "cell_type": "code",
   "execution_count": 5,
   "metadata": {},
   "outputs": [],
   "source": [
    "# second page\n",
    "browser.click_link_by_partial_text('more info')"
   ]
  },
  {
   "cell_type": "code",
   "execution_count": 6,
   "metadata": {},
   "outputs": [
    {
     "name": "stdout",
     "output_type": "stream",
     "text": [
      "https://photojournal.jpl.nasa.gov/jpeg/PIA17924.jpg\n"
     ]
    }
   ],
   "source": [
    "html = browser.html\n",
    "soup = BeautifulSoup(html, 'html.parser')\n",
    "\n",
    "image_urls = soup.find_all('div', class_='download_tiff')\n",
    "\n",
    "for image_url in image_urls:\n",
    "    if \"JPG\" in image_url.text:\n",
    "        featured_image_url = image_url.find('a')['href']\n",
    "    else:\n",
    "        continue \n",
    "\n",
    "featured_image_url =  'https:'+ featured_image_url\n",
    "print(featured_image_url)"
   ]
  },
  {
   "cell_type": "code",
   "execution_count": 7,
   "metadata": {},
   "outputs": [],
   "source": [
    "# close browser\n",
    "browser.quit()"
   ]
  },
  {
   "cell_type": "markdown",
   "metadata": {},
   "source": [
    "## Mars Weather"
   ]
  },
  {
   "cell_type": "code",
   "execution_count": 8,
   "metadata": {},
   "outputs": [
    {
     "name": "stdout",
     "output_type": "stream",
     "text": [
      "InSight sol 153 (2019-05-02) low -98.5ºC (-145.3ºF) high -17.5ºC (0.6ºF)\n",
      "winds from the SW at 4.7 m/s (10.5 mph) gusting to 11.9 m/s (26.6 mph)\n",
      "pressure at 7.40 hPa\n"
     ]
    }
   ],
   "source": [
    "# URL of page to be scraped\n",
    "# Mars Weather twitter account\n",
    "mars_weather_twitter_url = 'https://twitter.com/marswxreport?lang=en'\n",
    "\n",
    "# Retrieve page with the requests module\n",
    "response = requests.get(mars_weather_twitter_url)\n",
    "\n",
    "# Create BeautifulSoup object; parse with 'html.parser'\n",
    "soup = BeautifulSoup(response.text, 'html.parser')\n",
    "\n",
    "# Retrieve the parent divs for all articles\n",
    "results = soup.find_all(class_='js-tweet-text-container',limit=1)\n",
    "# print(results)\n",
    "# Loop through results\n",
    "for result in results:\n",
    "    mars_weather = result.find(class_='TweetTextSize').text\n",
    "    time_link = result.find(class_='twitter-timeline-link').text\n",
    "\n",
    "mars_weather = mars_weather.split(time_link)[0]\n",
    "print(mars_weather)"
   ]
  },
  {
   "cell_type": "markdown",
   "metadata": {},
   "source": [
    "## Mars Facts"
   ]
  },
  {
   "cell_type": "code",
   "execution_count": 2,
   "metadata": {},
   "outputs": [
    {
     "data": {
      "text/html": [
       "<div>\n",
       "<style scoped>\n",
       "    .dataframe tbody tr th:only-of-type {\n",
       "        vertical-align: middle;\n",
       "    }\n",
       "\n",
       "    .dataframe tbody tr th {\n",
       "        vertical-align: top;\n",
       "    }\n",
       "\n",
       "    .dataframe thead th {\n",
       "        text-align: right;\n",
       "    }\n",
       "</style>\n",
       "<table border=\"1\" class=\"dataframe\">\n",
       "  <thead>\n",
       "    <tr style=\"text-align: right;\">\n",
       "      <th></th>\n",
       "      <th>Description</th>\n",
       "      <th>Facts</th>\n",
       "    </tr>\n",
       "  </thead>\n",
       "  <tbody>\n",
       "    <tr>\n",
       "      <th>0</th>\n",
       "      <td>Equatorial Diameter:</td>\n",
       "      <td>6,792 km</td>\n",
       "    </tr>\n",
       "    <tr>\n",
       "      <th>1</th>\n",
       "      <td>Polar Diameter:</td>\n",
       "      <td>6,752 km</td>\n",
       "    </tr>\n",
       "    <tr>\n",
       "      <th>2</th>\n",
       "      <td>Mass:</td>\n",
       "      <td>6.42 x 10^23 kg (10.7% Earth)</td>\n",
       "    </tr>\n",
       "    <tr>\n",
       "      <th>3</th>\n",
       "      <td>Moons:</td>\n",
       "      <td>2 (Phobos &amp; Deimos)</td>\n",
       "    </tr>\n",
       "    <tr>\n",
       "      <th>4</th>\n",
       "      <td>Orbit Distance:</td>\n",
       "      <td>227,943,824 km (1.52 AU)</td>\n",
       "    </tr>\n",
       "    <tr>\n",
       "      <th>5</th>\n",
       "      <td>Orbit Period:</td>\n",
       "      <td>687 days (1.9 years)</td>\n",
       "    </tr>\n",
       "    <tr>\n",
       "      <th>6</th>\n",
       "      <td>Surface Temperature:</td>\n",
       "      <td>-153 to 20 °C</td>\n",
       "    </tr>\n",
       "    <tr>\n",
       "      <th>7</th>\n",
       "      <td>First Record:</td>\n",
       "      <td>2nd millennium BC</td>\n",
       "    </tr>\n",
       "    <tr>\n",
       "      <th>8</th>\n",
       "      <td>Recorded By:</td>\n",
       "      <td>Egyptian astronomers</td>\n",
       "    </tr>\n",
       "  </tbody>\n",
       "</table>\n",
       "</div>"
      ],
      "text/plain": [
       "            Description                          Facts\n",
       "0  Equatorial Diameter:                       6,792 km\n",
       "1       Polar Diameter:                       6,752 km\n",
       "2                 Mass:  6.42 x 10^23 kg (10.7% Earth)\n",
       "3                Moons:            2 (Phobos & Deimos)\n",
       "4       Orbit Distance:       227,943,824 km (1.52 AU)\n",
       "5         Orbit Period:           687 days (1.9 years)\n",
       "6  Surface Temperature:                  -153 to 20 °C\n",
       "7         First Record:              2nd millennium BC\n",
       "8          Recorded By:           Egyptian astronomers"
      ]
     },
     "execution_count": 2,
     "metadata": {},
     "output_type": "execute_result"
    }
   ],
   "source": [
    "# Mars Facts webpage\n",
    "mars_facts_url = 'http://space-facts.com/mars/'\n",
    "# Use Panda's `read_html` to parse the url\n",
    "\n",
    "tables = pd.read_html(mars_facts_url)[0]\n",
    "tables.columns = ['Description', 'Facts']\n",
    "tables"
   ]
  },
  {
   "cell_type": "code",
   "execution_count": 17,
   "metadata": {},
   "outputs": [
    {
     "data": {
      "text/plain": [
       "[{'Description': 'Equatorial Diameter:', 'Facts': '6,792 km'},\n",
       " {'Description': 'Polar Diameter:', 'Facts': '6,752 km'},\n",
       " {'Description': 'Mass:', 'Facts': '6.42 x 10^23 kg (10.7% Earth)'},\n",
       " {'Description': 'Moons:', 'Facts': '2 (Phobos & Deimos)'},\n",
       " {'Description': 'Orbit Distance:', 'Facts': '227,943,824 km (1.52 AU)'},\n",
       " {'Description': 'Orbit Period:', 'Facts': '687 days (1.9 years)'},\n",
       " {'Description': 'Surface Temperature:', 'Facts': '-153 to 20 °C'},\n",
       " {'Description': 'First Record:', 'Facts': '2nd millennium BC'},\n",
       " {'Description': 'Recorded By:', 'Facts': 'Egyptian astronomers'}]"
      ]
     },
     "execution_count": 17,
     "metadata": {},
     "output_type": "execute_result"
    }
   ],
   "source": [
    "mars_facts = []\n",
    "for r in tables.iterrows():\n",
    "    mf = {\n",
    "    \"Description\":  r[1]['Description'],\n",
    "    \"Facts\": r[1]['Facts'],\n",
    "    }\n",
    "    mars_facts.append(mf)\n",
    "mars_facts    "
   ]
  },
  {
   "cell_type": "markdown",
   "metadata": {},
   "source": [
    "## Mars Hemispheres"
   ]
  },
  {
   "cell_type": "code",
   "execution_count": 10,
   "metadata": {},
   "outputs": [],
   "source": [
    "# USGS Astrogeology site \n",
    "astrogeology_url = 'https://astrogeology.usgs.gov/search/results?q=hemisphere+enhanced&k1=target&v1=Mars'\n",
    "\n",
    "# initialize\n",
    "hemisphere_image_urls = []\n",
    "\n",
    "# Use splinter to navigate the site and find the image url for the current Featured Mars Image and assign the url string to a variable\n",
    "executable_path = {'executable_path': 'chromedriver.exe'}\n",
    "browser = Browser('chrome', **executable_path, headless=False)\n",
    "browser.visit(astrogeology_url)\n",
    "\n",
    "# Retrieve page with the requests module\n",
    "response = requests.get(astrogeology_url)\n",
    "\n",
    "# Create BeautifulSoup object; parse with 'html.parser'\n",
    "soup = BeautifulSoup(response.text, 'html.parser')\n",
    "\n",
    "# Retrieve the parent divs for all articles\n",
    "hemisphere_results = soup.find_all(class_='itemLink')\n",
    "# print(results)\n",
    "# Loop through results\n",
    "for result in hemisphere_results:\n",
    "    title = result.find(class_='description').text\n",
    "    browser.click_link_by_partial_text(title)\n",
    "    html = browser.html\n",
    "    soup_result = BeautifulSoup(html, 'html.parser')\n",
    "    image_urls = soup_result.find(class_='content').find(class_='block').find('dl').find('dd').find_next('dd')\n",
    "    for image_url in image_urls:\n",
    "        try:\n",
    "            img_url = image_url ['href']\n",
    "            img_url_jpg = img_url +'/full.jpg'\n",
    "            hiu = {\n",
    "                \"title\":   title,\n",
    "                \"img_url\": img_url_jpg,\n",
    "            }\n",
    "            hemisphere_image_urls.append(hiu)\n",
    "        except:\n",
    "            continue\n",
    "#   always go back to the initial url window\n",
    "    browser.back()\n",
    "# close browser \n",
    "browser.quit()"
   ]
  },
  {
   "cell_type": "code",
   "execution_count": 11,
   "metadata": {},
   "outputs": [
    {
     "data": {
      "text/plain": [
       "[{'title': 'Cerberus Hemisphere Enhanced',\n",
       "  'img_url': 'http://astropedia.astrogeology.usgs.gov/download/Mars/Viking/cerberus_enhanced.tif/full.jpg'},\n",
       " {'title': 'Schiaparelli Hemisphere Enhanced',\n",
       "  'img_url': 'http://astropedia.astrogeology.usgs.gov/download/Mars/Viking/schiaparelli_enhanced.tif/full.jpg'},\n",
       " {'title': 'Syrtis Major Hemisphere Enhanced',\n",
       "  'img_url': 'http://astropedia.astrogeology.usgs.gov/download/Mars/Viking/syrtis_major_enhanced.tif/full.jpg'},\n",
       " {'title': 'Valles Marineris Hemisphere Enhanced',\n",
       "  'img_url': 'http://astropedia.astrogeology.usgs.gov/download/Mars/Viking/valles_marineris_enhanced.tif/full.jpg'}]"
      ]
     },
     "execution_count": 11,
     "metadata": {},
     "output_type": "execute_result"
    }
   ],
   "source": [
    "hemisphere_image_urls"
   ]
  },
  {
   "cell_type": "markdown",
   "metadata": {},
   "source": [
    "# Step 2 - MongoDB and Flask Application"
   ]
  },
  {
   "cell_type": "code",
   "execution_count": null,
   "metadata": {},
   "outputs": [],
   "source": []
  }
 ],
 "metadata": {
  "kernelspec": {
   "display_name": "Python 3",
   "language": "python",
   "name": "python3"
  },
  "language_info": {
   "codemirror_mode": {
    "name": "ipython",
    "version": 3
   },
   "file_extension": ".py",
   "mimetype": "text/x-python",
   "name": "python",
   "nbconvert_exporter": "python",
   "pygments_lexer": "ipython3",
   "version": "3.7.1"
  }
 },
 "nbformat": 4,
 "nbformat_minor": 2
}
